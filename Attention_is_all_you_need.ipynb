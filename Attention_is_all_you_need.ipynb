{
  "nbformat": 4,
  "nbformat_minor": 0,
  "metadata": {
    "colab": {
      "name": "Attention_is_all_you_need.ipynb",
      "provenance": [],
      "mount_file_id": "16GDYI1U2qXNMa7zYovlj3a-6Ga6sa3pR",
      "authorship_tag": "ABX9TyN5kJtOXqhu14/qFrWueCYH",
      "include_colab_link": true
    },
    "kernelspec": {
      "name": "python3",
      "display_name": "Python 3"
    },
    "language_info": {
      "name": "python"
    }
  },
  "cells": [
    {
      "cell_type": "markdown",
      "metadata": {
        "id": "view-in-github",
        "colab_type": "text"
      },
      "source": [
        "<a href=\"https://colab.research.google.com/github/Hariomsmit/Attention-is-all-you-need/blob/main/Attention_is_all_you_need.ipynb\" target=\"_parent\"><img src=\"https://colab.research.google.com/assets/colab-badge.svg\" alt=\"Open In Colab\"/></a>"
      ]
    },
    {
      "cell_type": "markdown",
      "source": [
        "**AUTHOR-HARI OM**\\\n",
        "Importing Required Libraries"
      ],
      "metadata": {
        "id": "SM8gVTKnjYIr"
      }
    },
    {
      "cell_type": "code",
      "execution_count": 1,
      "metadata": {
        "id": "IlpcmsvfjRUB"
      },
      "outputs": [],
      "source": [
        "import torch\n",
        "import torch.nn as nn"
      ]
    },
    {
      "cell_type": "markdown",
      "source": [
        "Creating class named self_Attention where we will take embeded sizes and heads of the input layers. In our paper the embaded size is dk=dv = 512/8 =64.\n",
        "And the heads is 8"
      ],
      "metadata": {
        "id": "uHrDJAAuDVoA"
      }
    },
    {
      "cell_type": "code",
      "source": [
        "class self_attention(nn.Module):\n",
        "    def __init__(self, embedded_size, heads):\n",
        "        super(self_attention, self).__init__()\n",
        "        self.embedded_size = embedded_size\n",
        "        self.heads = heads\n",
        "        self.head_dimension = embedded_size // heads\n",
        "\n",
        "        assert (self.head_dimension * heads == embedded_size), \"embedding size needs to be divisible by heads\"\n",
        "\n",
        "        self.values = nn.Linear(self.head_dimension, self.head_dimension, bias=False)\n",
        "        self.keys = nn.Linear(self.head_dimension, self.head_dimension, bias=False)\n",
        "        self.queries = nn.Linear(self.head_dimension, self.head_dimension, bias=False)\n",
        "        self.afc_out = nn.Linear(heads * self.head_dimension, embedded_size)\n",
        "#Now we want to get the number of training examples. In paper training examples are English sentences where it has to get broken into saveral number\n",
        "#of subwords which we never know. So the Query, Value and Key length will be depending on where we use the ATTENTION MECHANISM. So overall it \n",
        "#will depend on source sentence length and target sentence length.\n",
        "    def forward(self, values, keys, query, mask):\n",
        "        # Get number of training examples\n",
        "        N = query.shape[0]\n",
        "\n",
        "        value_len, key_len, query_len = values.shape[1], keys.shape[1], query.shape[1]\n",
        "\n",
        "        # Split the embedding into self.heads different pieces\n",
        "        values = values.reshape(N, value_len, self.heads, self.head_dimension)\n",
        "        keys = keys.reshape(N, key_len, self.heads, self.head_dimension)\n",
        "        query = query.reshape(N, query_len, self.heads, self.head_dimension)\n",
        "\n",
        "        values = self.values(values)  \n",
        "        keys = self.keys(keys)  \n",
        "        queries = self.queries(query)  \n",
        "\n",
        "\n",
        "\n",
        "        energy = torch.einsum(\"nqhd,nkhd->nhqk\", [queries, keys])\n",
        "\n",
        "        # Mask padded indices so their weights become 0\n",
        "        if mask is not None:\n",
        "            energy = energy.masked_fill(mask == 0, float(\"-1e20\"))\n",
        "        attention = torch.softmax(energy / (self.embedded_size ** (1 / 2)), dim=3)\n",
        "        # attention shape: (N, heads, query_len, key_len)\n",
        "\n",
        "        out = torch.einsum(\"nhql,nlhd->nqhd\", [attention, values]).reshape(N, query_len, self.heads * self.head_dimension)\n",
        "\n",
        "        out = self.afc_out(out)   \n",
        "        return out\n",
        "\n"
      ],
      "metadata": {
        "id": "wET1UDDADwAd"
      },
      "execution_count": 2,
      "outputs": []
    },
    {
      "cell_type": "markdown",
      "source": [
        "**Transformers Block construction**"
      ],
      "metadata": {
        "id": "M0-0VcywYXr7"
      }
    },
    {
      "cell_type": "code",
      "source": [
        "class transblock(nn.Module):\n",
        "    def __init__(self, embedded_size, heads, dropout, forward_expansion):\n",
        "        super(transblock, self).__init__()\n",
        "        self.attention = self_attention(embedded_size, heads)\n",
        "        self.norm1 = nn.LayerNorm(embedded_size)\n",
        "        self.norm2 = nn.LayerNorm(embedded_size)\n",
        "\n",
        "        self.feed_forward = nn.Sequential(\n",
        "            nn.Linear(embedded_size, forward_expansion * embedded_size),\n",
        "            nn.ReLU(),\n",
        "            nn.Linear(forward_expansion * embedded_size, embedded_size),\n",
        "        )\n",
        "\n",
        "        self.dropout = nn.Dropout(dropout)\n",
        "\n",
        "    def forward(self, value, key, query, mask):\n",
        "        attention = self.attention(value, key, query, mask)\n",
        "        x = self.dropout(self.norm1(attention + query))\n",
        "        forward = self.feed_forward(x)\n",
        "        out = self.dropout(self.norm2(forward + x))\n",
        "        return out\n",
        "\n",
        "        "
      ],
      "metadata": {
        "id": "YOZtRlZpYJ_6"
      },
      "execution_count": 3,
      "outputs": []
    },
    {
      "cell_type": "markdown",
      "source": [
        "**Creating Encoder**\n"
      ],
      "metadata": {
        "id": "rHfVh63TdaiU"
      }
    },
    {
      "cell_type": "code",
      "source": [
        "class Encoder(nn.Module):\n",
        "    def __init__(\n",
        "        self,\n",
        "        source_vocab_size,\n",
        "        embedded_size,\n",
        "        no_of_layers,\n",
        "        heads,\n",
        "        device,\n",
        "        forward_expansion,\n",
        "        dropout,\n",
        "        max_length,\n",
        "    ):\n",
        "\n",
        "        super(Encoder, self).__init__()\n",
        "        self.embedded_size = embedded_size\n",
        "        self.device = device\n",
        "        self.word_embedding = nn.Embedding(source_vocab_size, embedded_size)\n",
        "        self.position_embedding = nn.Embedding(max_length, embedded_size)\n",
        "\n",
        "        self.layers = nn.ModuleList(\n",
        "            [\n",
        "                transblock(\n",
        "                    embedded_size,\n",
        "                    heads,\n",
        "                    dropout=dropout,\n",
        "                    forward_expansion=forward_expansion,\n",
        "                )\n",
        "                for _ in range(no_of_layers)\n",
        "            ]\n",
        "        )\n",
        "\n",
        "        self.dropout = nn.Dropout(dropout)\n",
        "\n",
        "    def forward(self, x, mask):\n",
        "        N, seq_length = x.shape\n",
        "        positions = torch.arange(0, seq_length).expand(N, seq_length).to(self.device)\n",
        "        out = self.dropout(\n",
        "            (self.word_embedding(x) + self.position_embedding(positions))\n",
        "        )\n",
        "        for layer in self.layers:\n",
        "            out = layer(out, out, out, mask)\n",
        "\n",
        "        return out\n",
        "\n"
      ],
      "metadata": {
        "id": "nZAn891ydfca"
      },
      "execution_count": 4,
      "outputs": []
    },
    {
      "cell_type": "markdown",
      "source": [
        "**Creating Decoder Block**"
      ],
      "metadata": {
        "id": "HBB23yvjiP0x"
      }
    },
    {
      "cell_type": "code",
      "source": [
        "\n",
        "class de_block(nn.Module):\n",
        "    def __init__(self, embedded_size, heads, forward_expansion, dropout, device):\n",
        "        super(de_block, self).__init__()\n",
        "        self.norm = nn.LayerNorm(embedded_size)\n",
        "        self.attention = self_attention(embedded_size, heads=heads)\n",
        "        self.transformer_block = transblock(\n",
        "            embedded_size, heads, dropout, forward_expansion\n",
        "        )\n",
        "        self.dropout = nn.Dropout(dropout)\n",
        "\n",
        "    def forward(self, x, value, key, source_mask, target_mask):\n",
        "        attention = self.attention(x, x, x, target_mask)\n",
        "        query = self.dropout(self.norm(attention + x))\n",
        "        out = self.transformer_block(value, key, query, source_mask)\n",
        "        return out\n"
      ],
      "metadata": {
        "id": "qckUJkS_iXt4"
      },
      "execution_count": 5,
      "outputs": []
    },
    {
      "cell_type": "markdown",
      "source": [
        "Creating Decoder"
      ],
      "metadata": {
        "id": "HCkkK5fKOh1P"
      }
    },
    {
      "cell_type": "code",
      "source": [
        "class Decoder(nn.Module):\n",
        "    def __init__(\n",
        "        self,\n",
        "        target_vocab_size,\n",
        "        embedded_size,\n",
        "        no_of_layers,\n",
        "        heads,\n",
        "        forward_expansion,\n",
        "        dropout,\n",
        "        device,\n",
        "        max_length,\n",
        "    ):\n",
        "        super(Decoder, self).__init__()\n",
        "        self.device = device\n",
        "        self.word_embedding = nn.Embedding(target_vocab_size, embedded_size)\n",
        "        self.position_embedding = nn.Embedding(max_length, embedded_size)\n",
        "\n",
        "        self.layers = nn.ModuleList(\n",
        "            [\n",
        "                de_block(embedded_size, heads, forward_expansion, dropout, device)\n",
        "                for _ in range(no_of_layers)\n",
        "            ]\n",
        "        )\n",
        "        self.afc_out = nn.Linear(embedded_size, target_vocab_size)\n",
        "        self.dropout = nn.Dropout(dropout)\n",
        "\n",
        "    def forward(self, x, enc_out, source_mask, target_mask):\n",
        "        N, seq_length = x.shape\n",
        "        positions = torch.arange(0, seq_length).expand(N, seq_length).to(self.device)\n",
        "        x = self.dropout((self.word_embedding(x) + self.position_embedding(positions)))\n",
        "\n",
        "        for layer in self.layers:\n",
        "            x = layer(x, enc_out, enc_out, source_mask, target_mask)\n",
        "\n",
        "        out = self.afc_out(x)\n",
        "\n",
        "        return out\n",
        "\n"
      ],
      "metadata": {
        "id": "2BQ0M9QROheG"
      },
      "execution_count": 6,
      "outputs": []
    },
    {
      "cell_type": "markdown",
      "source": [
        "Now we are done with Encoder as well as decoder part so let's put them together."
      ],
      "metadata": {
        "id": "0Qdd2o5xv50C"
      }
    },
    {
      "cell_type": "code",
      "source": [
        "class Transformer(nn.Module):\n",
        "    def __init__(\n",
        "        self,\n",
        "        source_vocab_size,\n",
        "        target_vocab_size,\n",
        "        source_pad_index,\n",
        "        target_pad_index,\n",
        "        embedded_size=512,\n",
        "        no_of_layers=6,\n",
        "        forward_expansion=4,\n",
        "        heads=8,\n",
        "        dropout=0,\n",
        "        device=\"cpu\",\n",
        "        max_length=100,\n",
        "    ):\n",
        "\n",
        "        super(Transformer, self).__init__()\n",
        "\n",
        "        self.encoder = Encoder(\n",
        "            source_vocab_size,\n",
        "            embedded_size,\n",
        "            no_of_layers,\n",
        "            heads,\n",
        "            device,\n",
        "            forward_expansion,\n",
        "            dropout,\n",
        "            max_length,\n",
        "        )\n",
        "\n",
        "        self.decoder = Decoder(\n",
        "            target_vocab_size,\n",
        "            embedded_size,\n",
        "            no_of_layers,\n",
        "            heads,\n",
        "            forward_expansion,\n",
        "            dropout,\n",
        "            device,\n",
        "            max_length,\n",
        "        )\n",
        "\n",
        "        self.source_pad_index = source_pad_index\n",
        "        self.target_pad_index = target_pad_index\n",
        "        self.device = device\n",
        "\n",
        "    def make_source_mask(self, src):\n",
        "        source_mask = (src != self.source_pad_index).unsqueeze(1).unsqueeze(2)\n",
        "        # (N, 1, 1, source length)\n",
        "        return source_mask.to(self.device)\n",
        "\n",
        "    def make_trg_mask(self, Target):\n",
        "        N, target_length = Target.shape\n",
        "        target_mask = torch.tril(torch.ones((target_length, target_length))).expand(N, 1, target_length, target_length)\n",
        "\n",
        "        return target_mask.to(self.device)\n",
        "\n",
        "    def forward(self, src, Target):\n",
        "        source_mask = self.make_source_mask(src)\n",
        "        target_mask = self.make_trg_mask(Target)\n",
        "        encoder_source = self.encoder(src, source_mask)\n",
        "        out = self.decoder(Target, encoder_source, source_mask, target_mask)\n",
        "        return out\n"
      ],
      "metadata": {
        "id": "nlTthbwDwykx"
      },
      "execution_count": 7,
      "outputs": []
    },
    {
      "cell_type": "markdown",
      "source": [
        "**Now we are done with the whole structure of encoder and decoder of attention mechanism discussed in the paper. So now let's check it with a small example.**"
      ],
      "metadata": {
        "id": "NyKYFV6W01mB"
      }
    },
    {
      "cell_type": "code",
      "source": [
        "\n",
        "if __name__ == \"__main__\":\n",
        "    device = torch.device(\"cpu\")\n",
        "    print(device)\n",
        "\n",
        "    x = torch.tensor([[1, 5, 6, 4, 3, 9, 5, 2, 0], [1, 8, 7, 3, 4, 5, 6, 7, 2]]).to(\n",
        "        device\n",
        "    )\n",
        "    Target = torch.tensor([[1, 7, 4, 3, 5, 9, 2, 0], [1, 5, 6, 2, 4, 7, 6, 2]]).to(device)\n",
        "\n",
        "    source_pad_index = 0\n",
        "    target_pad_index = 0\n",
        "    source_vocab_size = 10\n",
        "    target_vocab_size = 10\n",
        "    model = Transformer(source_vocab_size, target_vocab_size, source_pad_index, target_pad_index, device=device).to(\n",
        "        device\n",
        "    )\n",
        "    out = model(x, Target[:, :-1])\n",
        "    print(out.shape)\n"
      ],
      "metadata": {
        "colab": {
          "base_uri": "https://localhost:8080/"
        },
        "id": "VbfkUBXz1Imr",
        "outputId": "f35751d4-2b5e-49a7-902b-996b70cf87dd"
      },
      "execution_count": 8,
      "outputs": [
        {
          "output_type": "stream",
          "name": "stdout",
          "text": [
            "cpu\n",
            "torch.Size([2, 7, 10])\n"
          ]
        }
      ]
    }
  ]
}